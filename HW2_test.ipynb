{
 "cells": [
  {
   "cell_type": "code",
   "execution_count": 1,
   "id": "ce319901",
   "metadata": {},
   "outputs": [],
   "source": [
    "%load_ext autoreload\n",
    "%autoreload"
   ]
  },
  {
   "cell_type": "code",
   "execution_count": 2,
   "id": "2e21d604",
   "metadata": {},
   "outputs": [],
   "source": [
    "# import networkx package\n",
    "import networkx as nx\n",
    "import matplotlib.pyplot as plt\n",
    "from search import graph"
   ]
  },
  {
   "cell_type": "code",
   "execution_count": 3,
   "id": "2073447c",
   "metadata": {},
   "outputs": [],
   "source": [
    "#test_network = 'data/tiny_network.adjlist'\n",
    "test_network = 'data/citation_network.adjlist'\n",
    "g = graph.Graph(test_network)"
   ]
  },
  {
   "cell_type": "code",
   "execution_count": 18,
   "id": "567efb16",
   "metadata": {},
   "outputs": [
    {
     "data": {
      "text/plain": [
       "['Luke Gilbert', '33483487', 'Martin Kampmann']"
      ]
     },
     "execution_count": 18,
     "metadata": {},
     "output_type": "execute_result"
    }
   ],
   "source": [
    "start = \"Luke Gilbert\"\n",
    "end = \"Martin Kampmann\"\n",
    "x = g.bfs(start, end)\n",
    "x"
   ]
  },
  {
   "cell_type": "code",
   "execution_count": 19,
   "id": "eb0cb781",
   "metadata": {
    "scrolled": true
   },
   "outputs": [
    {
     "data": {
      "text/plain": [
       "'Luke Gilbert'"
      ]
     },
     "execution_count": 19,
     "metadata": {},
     "output_type": "execute_result"
    }
   ],
   "source": [
    "start = \"Luke Gilbert\"\n",
    "end = \"Luke Gilbert\"\n",
    "x = g.bfs(start, end)\n",
    "x"
   ]
  },
  {
   "cell_type": "code",
   "execution_count": 5,
   "id": "07c7d1bc",
   "metadata": {},
   "outputs": [],
   "source": [
    "empty_network = 'test/empty_network.adjlist'\n",
    "g_empty = graph.Graph(empty_network)"
   ]
  },
  {
   "cell_type": "code",
   "execution_count": 4,
   "id": "6c5fff8c",
   "metadata": {},
   "outputs": [
    {
     "ename": "ValueError",
     "evalue": "Graph is empty",
     "output_type": "error",
     "traceback": [
      "\u001b[0;31m---------------------------------------------------------------------------\u001b[0m",
      "\u001b[0;31mValueError\u001b[0m                                Traceback (most recent call last)",
      "Cell \u001b[0;32mIn[4], line 1\u001b[0m\n\u001b[0;32m----> 1\u001b[0m \u001b[43mg\u001b[49m\u001b[38;5;241;43m.\u001b[39;49m\u001b[43mcheck_empty_graph\u001b[49m\u001b[43m(\u001b[49m\u001b[43m)\u001b[49m\n",
      "File \u001b[0;32m~/Library/CloudStorage/Box-Box/BMI203/Github/HW2-BFS/search/graph.py:18\u001b[0m, in \u001b[0;36mGraph.check_empty_graph\u001b[0;34m(self)\u001b[0m\n\u001b[1;32m     16\u001b[0m \u001b[38;5;28;01mdef\u001b[39;00m \u001b[38;5;21mcheck_empty_graph\u001b[39m(\u001b[38;5;28mself\u001b[39m):\n\u001b[1;32m     17\u001b[0m     \u001b[38;5;28;01mif\u001b[39;00m \u001b[38;5;28mlen\u001b[39m(\u001b[38;5;28mself\u001b[39m\u001b[38;5;241m.\u001b[39mgraph\u001b[38;5;241m.\u001b[39mnodes()) \u001b[38;5;241m==\u001b[39m \u001b[38;5;241m0\u001b[39m:\n\u001b[0;32m---> 18\u001b[0m         \u001b[38;5;28;01mraise\u001b[39;00m \u001b[38;5;167;01mValueError\u001b[39;00m(\u001b[38;5;124m\"\u001b[39m\u001b[38;5;124mGraph is empty\u001b[39m\u001b[38;5;124m\"\u001b[39m)\n",
      "\u001b[0;31mValueError\u001b[0m: Graph is empty"
     ]
    }
   ],
   "source": [
    "g_empty.check_empty_graph()"
   ]
  },
  {
   "cell_type": "code",
   "execution_count": 6,
   "id": "7ac44401",
   "metadata": {},
   "outputs": [],
   "source": [
    "test_network = 'data/citation_network.adjlist'\n",
    "g_test = graph.Graph(test_network)"
   ]
  },
  {
   "cell_type": "code",
   "execution_count": 7,
   "id": "b2ce102b",
   "metadata": {},
   "outputs": [],
   "source": [
    "g_test.check_empty_graph()"
   ]
  },
  {
   "cell_type": "code",
   "execution_count": null,
   "id": "b852ba6e",
   "metadata": {},
   "outputs": [],
   "source": []
  }
 ],
 "metadata": {
  "kernelspec": {
   "display_name": "Python 3 (ipykernel)",
   "language": "python",
   "name": "python3"
  },
  "language_info": {
   "codemirror_mode": {
    "name": "ipython",
    "version": 3
   },
   "file_extension": ".py",
   "mimetype": "text/x-python",
   "name": "python",
   "nbconvert_exporter": "python",
   "pygments_lexer": "ipython3",
   "version": "3.9.15"
  }
 },
 "nbformat": 4,
 "nbformat_minor": 5
}
